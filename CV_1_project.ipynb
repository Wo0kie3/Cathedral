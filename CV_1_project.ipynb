{
 "cells": [
  {
   "cell_type": "markdown",
   "id": "c85575c2",
   "metadata": {},
   "source": [
    "# Computer Vision Project 1"
   ]
  },
  {
   "cell_type": "markdown",
   "id": "4bdfbc67",
   "metadata": {},
   "source": [
    "Authors:\n",
    " - Jerzy Łukaszewicz 145458\n",
    " - Konrad Szewczyk 145466"
   ]
  },
  {
   "cell_type": "code",
   "execution_count": 9,
   "id": "6a998013",
   "metadata": {},
   "outputs": [],
   "source": [
    "import cv2\n",
    "import matplotlib.pyplot as plt\n",
    "import numpy as np\n",
    "import pandas as pd\n",
    "import PIL\n",
    "import os"
   ]
  },
  {
   "cell_type": "code",
   "execution_count": 28,
   "id": "0006ddcf",
   "metadata": {},
   "outputs": [],
   "source": [
    "imshow = cv2.imshow\n",
    "datapath = './data/'\n",
    "resultpath = ''"
   ]
  },
  {
   "cell_type": "code",
   "execution_count": 18,
   "id": "83b9c5f4",
   "metadata": {},
   "outputs": [],
   "source": [
    "result_img = cv2.imread('result.png', cv2.IMREAD_COLOR)"
   ]
  },
  {
   "cell_type": "code",
   "execution_count": 33,
   "id": "4b1bbe47",
   "metadata": {
    "scrolled": true
   },
   "outputs": [
    {
     "data": {
      "text/plain": [
       "-1"
      ]
     },
     "execution_count": 33,
     "metadata": {},
     "output_type": "execute_result"
    }
   ],
   "source": [
    "imshow('',result_img)\n",
    "cv2.waitKey(0)"
   ]
  },
  {
   "cell_type": "code",
   "execution_count": 20,
   "id": "c3c78e0d",
   "metadata": {
    "scrolled": true
   },
   "outputs": [
    {
     "data": {
      "text/plain": [
       "(500, 752, 3)"
      ]
     },
     "execution_count": 20,
     "metadata": {},
     "output_type": "execute_result"
    }
   ],
   "source": [
    "result_img.shape"
   ]
  },
  {
   "cell_type": "code",
   "execution_count": 21,
   "id": "295240de",
   "metadata": {},
   "outputs": [],
   "source": [
    "images = [datapath + item for item in os.listdir(datapath)]"
   ]
  },
  {
   "cell_type": "code",
   "execution_count": 34,
   "id": "8f41fafa",
   "metadata": {},
   "outputs": [],
   "source": [
    "for img in images:\n",
    "    img_query = cv2.imread(img, cv2.IMREAD_COLOR)\n",
    "    imshow('',img_query)\n",
    "    cv2.waitKey(0)"
   ]
  }
 ],
 "metadata": {
  "kernelspec": {
   "display_name": "Python 3",
   "language": "python",
   "name": "python3"
  },
  "language_info": {
   "codemirror_mode": {
    "name": "ipython",
    "version": 3
   },
   "file_extension": ".py",
   "mimetype": "text/x-python",
   "name": "python",
   "nbconvert_exporter": "python",
   "pygments_lexer": "ipython3",
   "version": "3.9.5"
  }
 },
 "nbformat": 4,
 "nbformat_minor": 5
}
