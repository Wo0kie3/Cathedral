{
 "cells": [
  {
   "cell_type": "markdown",
   "id": "81a59c8d",
   "metadata": {},
   "source": [
    "# Computer Vision Project 1"
   ]
  },
  {
   "cell_type": "markdown",
   "id": "0fc7189b",
   "metadata": {},
   "source": [
    "Authors:\n",
    " - Jerzy Łukaszewicz 145458\n",
    " - Konrad Szewczyk 145466"
   ]
  },
  {
   "cell_type": "code",
   "execution_count": 1,
   "id": "35c29209",
   "metadata": {},
   "outputs": [],
   "source": [
    "import cv2\n",
    "import matplotlib.pyplot as plt\n",
    "import numpy as np\n",
    "import pandas as pd\n",
    "import PIL\n",
    "import os"
   ]
  },
  {
   "cell_type": "code",
   "execution_count": 2,
   "id": "a2750dda",
   "metadata": {},
   "outputs": [],
   "source": [
    "imshow = cv2.imshow\n",
    "datapath = './data/'\n",
    "resultpath = ''"
   ]
  },
  {
   "cell_type": "code",
   "execution_count": 3,
   "id": "271ac37b",
   "metadata": {},
   "outputs": [],
   "source": [
    "result_img = cv2.imread('result.png', cv2.IMREAD_COLOR)"
   ]
  },
  {
   "cell_type": "code",
   "execution_count": 4,
   "id": "dfb04a44",
   "metadata": {
    "scrolled": true
   },
   "outputs": [
    {
     "data": {
      "text/plain": [
       "-1"
      ]
     },
     "execution_count": 4,
     "metadata": {},
     "output_type": "execute_result"
    }
   ],
   "source": [
    "imshow('',result_img)\n",
    "cv2.waitKey(0)"
   ]
  },
  {
   "cell_type": "code",
   "execution_count": 5,
   "id": "cd62f4fb",
   "metadata": {},
   "outputs": [],
   "source": [
    "images = [datapath + item for item in os.listdir(datapath)]"
   ]
  },
  {
   "cell_type": "code",
   "execution_count": 6,
   "id": "1f414069",
   "metadata": {},
   "outputs": [],
   "source": [
    "img_read = []\n",
    "for img in images:\n",
    "    img_n = cv2.imread(img, cv2.IMREAD_COLOR)\n",
    "    img_n = cv2.cvtColor(img_n, cv2.COLOR_BGR2GRAY)\n",
    "    img_read.append(img_n)\n",
    "    imshow('',img_n)\n",
    "    cv2.waitKey(0)"
   ]
  },
  {
   "cell_type": "code",
   "execution_count": 7,
   "id": "69057b6f",
   "metadata": {},
   "outputs": [],
   "source": [
    "new_result = result_img.copy()\n",
    "for i in range(new_result.shape[0]):\n",
    "    for j in range(new_result.shape[1]):\n",
    "        res = [[] for x in range(0,51)]\n",
    "        for img in img_read:\n",
    "            idx = img[i][j] // 5\n",
    "            res[idx-1].append(img[i][j])\n",
    "        list_len = max(res)\n",
    "        px = np.mean(list_len).astype(\"uint8\")\n",
    "        new_result[i][j] = px"
   ]
  },
  {
   "cell_type": "code",
   "execution_count": 8,
   "id": "155eaf34",
   "metadata": {},
   "outputs": [
    {
     "data": {
      "text/plain": [
       "-1"
      ]
     },
     "execution_count": 8,
     "metadata": {},
     "output_type": "execute_result"
    }
   ],
   "source": [
    "imshow('',new_result)\n",
    "cv2.waitKey(0)"
   ]
  },
  {
   "cell_type": "code",
   "execution_count": 9,
   "id": "543d79c6",
   "metadata": {},
   "outputs": [],
   "source": [
    "img_color = []\n",
    "for img in images:\n",
    "    img_n = cv2.imread(img, cv2.IMREAD_COLOR)\n",
    "    img_color.append(img_n)\n",
    "    imshow('',img_n)\n",
    "    cv2.waitKey(0)"
   ]
  },
  {
   "cell_type": "code",
   "execution_count": 10,
   "id": "5b77cc20",
   "metadata": {},
   "outputs": [
    {
     "data": {
      "text/plain": [
       "(500, 752, 3)"
      ]
     },
     "execution_count": 10,
     "metadata": {},
     "output_type": "execute_result"
    }
   ],
   "source": [
    "img_color[0].shape"
   ]
  },
  {
   "cell_type": "code",
   "execution_count": 11,
   "id": "922aad31",
   "metadata": {},
   "outputs": [],
   "source": [
    "from scipy import spatial"
   ]
  },
  {
   "cell_type": "code",
   "execution_count": 12,
   "id": "b70d1cb6",
   "metadata": {},
   "outputs": [],
   "source": [
    "from itertools import combinations"
   ]
  },
  {
   "cell_type": "code",
   "execution_count": 13,
   "id": "ad751f55",
   "metadata": {},
   "outputs": [],
   "source": [
    "new_result = np.zeros(result_img.shape)\n",
    "for i in range(result_img.shape[0]):\n",
    "    for j in range(result_img.shape[1]):\n",
    "        pix = []\n",
    "        for img_c in img_color:\n",
    "            pix.append(img_c[i][j])\n",
    "        comb = list(combinations(pix, 2))\n",
    "        cos = []\n",
    "        for k in comb:\n",
    "            sim = np.linalg.norm(k[0]-k[1])\n",
    "            cos.append(1-sim)\n",
    "        best = cos.index(max(cos))\n",
    "        avg = np.mean(np.array([comb[best][0],comb[best][1]]), axis=0 )\n",
    "        avg = np.floor(avg)\n",
    "        new_result[i][j]=avg.astype(\"uint8\")"
   ]
  },
  {
   "cell_type": "code",
   "execution_count": 14,
   "id": "ebafe80f",
   "metadata": {},
   "outputs": [],
   "source": [
    "good_res = new_result.astype(\"uint8\")"
   ]
  },
  {
   "cell_type": "code",
   "execution_count": 15,
   "id": "306a6335",
   "metadata": {},
   "outputs": [],
   "source": [
    "image = new_result.astype(np.uint8)"
   ]
  },
  {
   "cell_type": "code",
   "execution_count": 16,
   "id": "54cfa0d6",
   "metadata": {},
   "outputs": [
    {
     "data": {
      "text/plain": [
       "-1"
      ]
     },
     "execution_count": 16,
     "metadata": {},
     "output_type": "execute_result"
    }
   ],
   "source": [
    "imshow('',good_res)\n",
    "cv2.waitKey(0)"
   ]
  },
  {
   "cell_type": "code",
   "execution_count": 17,
   "id": "0dc11c91",
   "metadata": {
    "scrolled": true
   },
   "outputs": [],
   "source": [
    "close = cv2.morphologyEx(good_res, cv2.MORPH_CLOSE, (5,5))"
   ]
  },
  {
   "cell_type": "code",
   "execution_count": 19,
   "id": "48bc94e6",
   "metadata": {},
   "outputs": [
    {
     "data": {
      "text/plain": [
       "-1"
      ]
     },
     "execution_count": 19,
     "metadata": {},
     "output_type": "execute_result"
    }
   ],
   "source": [
    "imshow('',close)\n",
    "cv2.waitKey(0)"
   ]
  }
 ],
 "metadata": {
  "kernelspec": {
   "display_name": "Python 3",
   "language": "python",
   "name": "python3"
  },
  "language_info": {
   "codemirror_mode": {
    "name": "ipython",
    "version": 3
   },
   "file_extension": ".py",
   "mimetype": "text/x-python",
   "name": "python",
   "nbconvert_exporter": "python",
   "pygments_lexer": "ipython3",
   "version": "3.9.5"
  }
 },
 "nbformat": 4,
 "nbformat_minor": 5
}
