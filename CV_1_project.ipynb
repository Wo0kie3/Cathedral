{
 "cells": [
  {
   "cell_type": "markdown",
   "id": "81a59c8d",
   "metadata": {},
   "source": [
    "# Computer Vision Project 1"
   ]
  },
  {
   "cell_type": "markdown",
   "id": "0fc7189b",
   "metadata": {},
   "source": [
    "Authors:\n",
    " - Jerzy Łukaszewicz 145458\n",
    " - Konrad Szewczyk 145466"
   ]
  },
  {
   "cell_type": "code",
   "execution_count": 1,
   "id": "35c29209",
   "metadata": {},
   "outputs": [],
   "source": [
    "import cv2\n",
    "import matplotlib.pyplot as plt\n",
    "import numpy as np\n",
    "import pandas as pd\n",
    "import PIL\n",
    "import os"
   ]
  },
  {
   "cell_type": "code",
   "execution_count": 2,
   "id": "a2750dda",
   "metadata": {},
   "outputs": [],
   "source": [
    "imshow = cv2.imshow\n",
    "datapath = './data/'\n",
    "resultpath = ''"
   ]
  },
  {
   "cell_type": "code",
   "execution_count": 3,
   "id": "271ac37b",
   "metadata": {},
   "outputs": [],
   "source": [
    "result_img = cv2.imread('result.png', cv2.IMREAD_COLOR)"
   ]
  },
  {
   "cell_type": "code",
   "execution_count": 4,
   "id": "dfb04a44",
   "metadata": {
    "scrolled": true
   },
   "outputs": [
    {
     "data": {
      "text/plain": [
       "-1"
      ]
     },
     "execution_count": 4,
     "metadata": {},
     "output_type": "execute_result"
    }
   ],
   "source": [
    "imshow('',result_img)\n",
    "cv2.waitKey(0)"
   ]
  },
  {
   "cell_type": "code",
   "execution_count": 5,
   "id": "cd62f4fb",
   "metadata": {},
   "outputs": [],
   "source": [
    "images = [datapath + item for item in os.listdir(datapath)]"
   ]
  },
  {
   "cell_type": "code",
   "execution_count": 6,
   "id": "1f414069",
   "metadata": {},
   "outputs": [
    {
     "name": "stdout",
     "output_type": "stream",
     "text": [
      "144\n",
      "145\n",
      "147\n",
      "147\n",
      "148\n"
     ]
    }
   ],
   "source": [
    "img_read = []\n",
    "for img in images:\n",
    "    img_n = cv2.imread(img, cv2.IMREAD_COLOR)\n",
    "    img_n = cv2.cvtColor(img_n, cv2.COLOR_BGR2GRAY)\n",
    "    print(img_n[0][0])\n",
    "    img_read.append(img_n)\n",
    "    imshow('',img_n)\n",
    "    cv2.waitKey(0)"
   ]
  },
  {
   "cell_type": "code",
   "execution_count": null,
   "id": "423ac906",
   "metadata": {},
   "outputs": [],
   "source": [
    "from collections import Counter"
   ]
  },
  {
   "cell_type": "code",
   "execution_count": 14,
   "id": "e086324c",
   "metadata": {},
   "outputs": [],
   "source": [
    "def most_frequent(lst):\n",
    "    most = Counter(tuple(d) for d in lst).most_common(1)[0] \n",
    "    return np.array(most[0])"
   ]
  },
  {
   "cell_type": "code",
   "execution_count": null,
   "id": "69057b6f",
   "metadata": {},
   "outputs": [],
   "source": [
    "new_result = result_img.copy()\n",
    "for i in range(new_result.shape[0]):\n",
    "    for j in range(new_result.shape[1]):\n",
    "        res = [[] for x in range(0,51)]\n",
    "        for img in img_read:\n",
    "            idx = img[i][j] // 5\n",
    "            res[idx-1].append(img[i][j])\n",
    "        list_len = max(res)\n",
    "        px = np.mean(list_len).astype(\"uint8\")\n",
    "        new_result[i][j] = px"
   ]
  },
  {
   "cell_type": "code",
   "execution_count": null,
   "id": "155eaf34",
   "metadata": {},
   "outputs": [],
   "source": [
    "imshow('',new_result)\n",
    "cv2.waitKey(0)"
   ]
  },
  {
   "cell_type": "code",
   "execution_count": null,
   "id": "543d79c6",
   "metadata": {},
   "outputs": [],
   "source": []
  }
 ],
 "metadata": {
  "kernelspec": {
   "display_name": "Python 3",
   "language": "python",
   "name": "python3"
  },
  "language_info": {
   "codemirror_mode": {
    "name": "ipython",
    "version": 3
   },
   "file_extension": ".py",
   "mimetype": "text/x-python",
   "name": "python",
   "nbconvert_exporter": "python",
   "pygments_lexer": "ipython3",
   "version": "3.9.5"
  }
 },
 "nbformat": 4,
 "nbformat_minor": 5
}
